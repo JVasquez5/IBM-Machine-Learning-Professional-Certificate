{
 "cells": [
  {
   "cell_type": "markdown",
   "metadata": {},
   "source": [
    "# IBM EDA peer-graded assignment"
   ]
  },
  {
   "cell_type": "markdown",
   "metadata": {},
   "source": [
    "## Brief description of the data set and a summary of its attributes"
   ]
  },
  {
   "cell_type": "markdown",
   "metadata": {},
   "source": [
    "The original dataset contained 1470 observations, 34 features, and a target of 'Attrition'. Furthermore, the aforemention dataset was clean and contained no NULL values. Moreover, a data dictionary was provided in order to grasp the context of individual labels; such as Education, Environment_Satisfaction, Job_Involvement, Job_Satisfaction, Performance_Rating, Relationship_Satisfaction, Work_Life_Balance, Job_Level, and Stock_Option_Level being on a scale from 1-5, while Distance_From_Home was measured in Kilometers and Percent_Salary_Hike is the percent increase in salary compared to the previous year."
   ]
  },
  {
   "cell_type": "markdown",
   "metadata": {},
   "source": [
    "## Initial plan for data exploration"
   ]
  },
  {
   "cell_type": "markdown",
   "metadata": {},
   "source": [
    "- Check for missing data (NULLS).\n",
    "- Review columns to identify what is needed or not.\n",
    "- Review column names and understand what each label means.\n",
    "- Make plots for initial insights."
   ]
  },
  {
   "cell_type": "markdown",
   "metadata": {},
   "source": [
    "## Actions taken for data cleaning and feature engineering"
   ]
  },
  {
   "cell_type": "markdown",
   "metadata": {},
   "source": [
    "- Clean column names.\n",
    "- Review target variable against other features ('Attrition' vs x) and create plots against 'Attrition'.\n",
    "- Remove columns: 'EmployeeCount', 'Over18', 'StandardHours', 'EmployeeNumber'"
   ]
  },
  {
   "cell_type": "markdown",
   "metadata": {},
   "source": [
    "## Key Findings and Insights, which synthesizes the results of Exploratory Data Analysis in an insightful and actionable manner"
   ]
  },
  {
   "cell_type": "markdown",
   "metadata": {},
   "source": [
    "- 'Attrition' was at 66.67% for 19 year olds, however the 'Attrition' rate drastically drops until employees hit the age of 58, where 'Attrition' jumps up to 35.71%.\n",
    "- When 'Distance_From_Home' was 25 kilometers the \"Attrition' rate 42.85%.\n",
    "- When 'Percent_Salary_Hike' was 24 (24% increase from previous year) 'Attrition' rate was 28.57%.\n",
    "- When 'Total_Working_Years' was 0 the 'Attrition' rate was 45.45%, when 1 the 'Attrition' rate was 49.38% and at 40 100%, likely due to retirement.\n",
    "- When 'Training_Time_Last_Year' was 0 the 'Attrition' rate was 27.78%.\n",
    "- When 'Year_At_Company' was 0 the 'Attrition' rate was 36.36%, when 1 34.50%.\n",
    "- Interestingly when an employee was given 'Overtime' their 'Attrition' rate was 30.52% compared to 10.43%.\n",
    "- When an employee 'Travel_Frequently' the 'Attrition\" rate was 24.90%.\n",
    "- Not suprisingly the 'Job_Role' of Sales Rep with the highest 'Attrition' rate was 39.75%.\n",
    "- Employees with 'Marital_Status' single has an 'Attrition' rate of 25.53.\n",
    "- 'Education_Field' of Human Resources has an 'Attrition' rate of 25.92%."
   ]
  },
  {
   "cell_type": "markdown",
   "metadata": {},
   "source": [
    "## Formulating at least 3 hypothesis about this data"
   ]
  },
  {
   "cell_type": "markdown",
   "metadata": {},
   "source": [
    "1) \n",
    "    - Ho: µ Education_Attrition == µ Education_Not_Attrition\n",
    "    - Ha: µ Education_Attrition != µ Education_Not_Attrition\n",
    "  \n",
    "2) \n",
    "    - Ho: µ Age_Attrition == µ Age_Not_Attrition\n",
    "    - Ha: µ Age_Attrition != µ Age_Not_Attrition\n",
    "  \n",
    "3) \n",
    "    - Ho: µ Job_Satisfaction_Attrition == µ Job_Satisfaction_Not_Attrition\n",
    "    - Ha: µ Job_Satisfaction_Attrition != µ Job_Satisfaction_Not_Attrition"
   ]
  },
  {
   "cell_type": "markdown",
   "metadata": {},
   "source": [
    "## Conducting a formal significance test for one of the hypotheses and discuss the results"
   ]
  },
  {
   "cell_type": "markdown",
   "metadata": {},
   "source": [
    "ss.kruskal(attrition_df['Education'], not_attrition_df['Education']) \n",
    "\n",
    "KruskalResult(statistic=1.3527640913093548, pvalue=0.2447954753326153)\n",
    "\n",
    "pvalue > 0.05\n",
    "\n",
    "There appears to be no statistically significant relationship between Attrition and Education, thus we fail reject the null hypothesis."
   ]
  },
  {
   "cell_type": "markdown",
   "metadata": {},
   "source": [
    "## Suggestions for next steps in analyzing this data"
   ]
  },
  {
   "cell_type": "markdown",
   "metadata": {},
   "source": [
    "- Continue testing hypothesis to hone in on and uncover what the true indicators, along with their magnitude, are for Attrition.\n",
    "- Would like to create models to uncover which feature is attributed most to Attrition."
   ]
  },
  {
   "cell_type": "markdown",
   "metadata": {},
   "source": [
    "## A paragraph that summarizes the quality of this data set and a request for additional data if needed"
   ]
  },
  {
   "cell_type": "markdown",
   "metadata": {},
   "source": [
    "Once again, this dataset was incredibly clean with no nulls or weird values. Additionally, a data dictionary was provided in order to grasp the context of each individual column. Moreover, additional data that would provide more insight would be the reason of Attrition. Did the individual seek further education, did they pusue a job within a completely different industry, or did they make a lateral move."
   ]
  },
  {
   "cell_type": "code",
   "execution_count": null,
   "metadata": {},
   "outputs": [],
   "source": []
  }
 ],
 "metadata": {
  "kernelspec": {
   "display_name": "Python 3",
   "language": "python",
   "name": "python3"
  },
  "language_info": {
   "codemirror_mode": {
    "name": "ipython",
    "version": 3
   },
   "file_extension": ".py",
   "mimetype": "text/x-python",
   "name": "python",
   "nbconvert_exporter": "python",
   "pygments_lexer": "ipython3",
   "version": "3.7.6"
  }
 },
 "nbformat": 4,
 "nbformat_minor": 4
}
